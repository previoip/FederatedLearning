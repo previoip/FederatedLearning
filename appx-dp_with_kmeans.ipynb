{
 "cells": [
  {
   "attachments": {},
   "cell_type": "markdown",
   "metadata": {},
   "source": [
    "Goal in mind: Achieving Differential Privacy for data distribution using k-means clustering, and/or locally private k-means implementation\n",
    "\n",
    "https://jmlr.csail.mit.edu/papers/volume22/20-721/20-721.pdf"
   ]
  },
  {
   "cell_type": "code",
   "execution_count": 1,
   "metadata": {},
   "outputs": [],
   "source": [
    "from src.data_examples.ex2_data_loader import ExampleDataLoader\n",
    "\n",
    "import pandas as pd\n",
    "import numpy as np\n",
    "import matplotlib.pyplot as plt\n",
    "\n",
    "from scipy.sparse.linalg import svds as scipy_svds\n",
    "from sklearn.cluster import KMeans as sklearn_kmeans\n",
    "\n",
    "pd.options.mode.chained_assignment = None"
   ]
  },
  {
   "cell_type": "code",
   "execution_count": 2,
   "metadata": {},
   "outputs": [],
   "source": [
    "RAND_SEED = 1337\n",
    "np.random.seed(RAND_SEED)"
   ]
  },
  {
   "cell_type": "code",
   "execution_count": 3,
   "metadata": {},
   "outputs": [
    {
     "name": "stdout",
     "output_type": "stream",
     "text": [
      "using cached file cache\\datasets\\movielens\\ml-100k.zip\n",
      "extracting zip file content:\n",
      "file already exists: data\\ex2\\ml-100k\n",
      "file already exists: data\\ex2\\ml-100k\\allbut.pl\n",
      "file already exists: data\\ex2\\ml-100k\\mku.sh\n",
      "file already exists: data\\ex2\\ml-100k\\README\n",
      "file already exists: data\\ex2\\ml-100k\\u.data\n",
      "file already exists: data\\ex2\\ml-100k\\u.genre\n",
      "file already exists: data\\ex2\\ml-100k\\u.info\n",
      "file already exists: data\\ex2\\ml-100k\\u.item\n",
      "file already exists: data\\ex2\\ml-100k\\u.occupation\n",
      "file already exists: data\\ex2\\ml-100k\\u.user\n",
      "file already exists: data\\ex2\\ml-100k\\u1.base\n",
      "file already exists: data\\ex2\\ml-100k\\u1.test\n",
      "file already exists: data\\ex2\\ml-100k\\u2.base\n",
      "file already exists: data\\ex2\\ml-100k\\u2.test\n",
      "file already exists: data\\ex2\\ml-100k\\u3.base\n",
      "file already exists: data\\ex2\\ml-100k\\u3.test\n",
      "file already exists: data\\ex2\\ml-100k\\u4.base\n",
      "file already exists: data\\ex2\\ml-100k\\u4.test\n",
      "file already exists: data\\ex2\\ml-100k\\u5.base\n",
      "file already exists: data\\ex2\\ml-100k\\u5.test\n",
      "file already exists: data\\ex2\\ml-100k\\ua.base\n",
      "file already exists: data\\ex2\\ml-100k\\ua.test\n",
      "file already exists: data\\ex2\\ml-100k\\ub.base\n",
      "file already exists: data\\ex2\\ml-100k\\ub.test\n"
     ]
    },
    {
     "name": "stderr",
     "output_type": "stream",
     "text": [
      "c:\\Python310\\lib\\site-packages\\pandas\\util\\_decorators.py:311: ParserWarning: Both a converter and dtype were specified for column user_id - only the converter will be used.\n",
      "  return func(*args, **kwargs)\n",
      "c:\\Python310\\lib\\site-packages\\pandas\\util\\_decorators.py:311: ParserWarning: Both a converter and dtype were specified for column user_id - only the converter will be used.\n",
      "  return func(*args, **kwargs)\n",
      "c:\\Python310\\lib\\site-packages\\pandas\\util\\_decorators.py:311: ParserWarning: Both a converter and dtype were specified for column movie_id - only the converter will be used.\n",
      "  return func(*args, **kwargs)\n",
      "c:\\Python310\\lib\\site-packages\\pandas\\util\\_decorators.py:311: ParserWarning: Both a converter and dtype were specified for column movie_id - only the converter will be used.\n",
      "  return func(*args, **kwargs)\n",
      "c:\\Python310\\lib\\site-packages\\pandas\\util\\_decorators.py:311: ParserWarning: Both a converter and dtype were specified for column release_date - only the converter will be used.\n",
      "  return func(*args, **kwargs)\n"
     ]
    },
    {
     "data": {
      "text/plain": [
       "<src.data_examples.ex2_data_loader.ExampleDataLoader at 0x22d94573c70>"
      ]
     },
     "execution_count": 3,
     "metadata": {},
     "output_type": "execute_result"
    }
   ],
   "source": [
    "data_loader = ExampleDataLoader()\n",
    "data_loader.download().load().clean().remap().merge()"
   ]
  },
  {
   "cell_type": "code",
   "execution_count": 4,
   "metadata": {},
   "outputs": [],
   "source": [
    "def df_to_np_sparse_matrix(df, U_c, V_c, val_c):\n",
    "  df = df[[U_c, V_c, val_c]]\n",
    "  df_pivot = df.pivot(index=U_c, columns=V_c, values=val_c).fillna(0)\n",
    "  return df_pivot.values"
   ]
  },
  {
   "cell_type": "code",
   "execution_count": 5,
   "metadata": {},
   "outputs": [
    {
     "data": {
      "text/html": [
       "<div>\n",
       "<style scoped>\n",
       "    .dataframe tbody tr th:only-of-type {\n",
       "        vertical-align: middle;\n",
       "    }\n",
       "\n",
       "    .dataframe tbody tr th {\n",
       "        vertical-align: top;\n",
       "    }\n",
       "\n",
       "    .dataframe thead th {\n",
       "        text-align: right;\n",
       "    }\n",
       "</style>\n",
       "<table border=\"1\" class=\"dataframe\">\n",
       "  <thead>\n",
       "    <tr style=\"text-align: right;\">\n",
       "      <th></th>\n",
       "      <th>user_id</th>\n",
       "      <th>movie_id</th>\n",
       "      <th>rating</th>\n",
       "    </tr>\n",
       "  </thead>\n",
       "  <tbody>\n",
       "    <tr>\n",
       "      <th>0</th>\n",
       "      <td>195</td>\n",
       "      <td>241</td>\n",
       "      <td>0.2</td>\n",
       "    </tr>\n",
       "    <tr>\n",
       "      <th>1</th>\n",
       "      <td>304</td>\n",
       "      <td>241</td>\n",
       "      <td>0.6</td>\n",
       "    </tr>\n",
       "    <tr>\n",
       "      <th>2</th>\n",
       "      <td>5</td>\n",
       "      <td>241</td>\n",
       "      <td>0.4</td>\n",
       "    </tr>\n",
       "    <tr>\n",
       "      <th>3</th>\n",
       "      <td>233</td>\n",
       "      <td>241</td>\n",
       "      <td>0.4</td>\n",
       "    </tr>\n",
       "    <tr>\n",
       "      <th>4</th>\n",
       "      <td>62</td>\n",
       "      <td>241</td>\n",
       "      <td>0.2</td>\n",
       "    </tr>\n",
       "    <tr>\n",
       "      <th>...</th>\n",
       "      <td>...</td>\n",
       "      <td>...</td>\n",
       "      <td>...</td>\n",
       "    </tr>\n",
       "    <tr>\n",
       "      <th>99995</th>\n",
       "      <td>862</td>\n",
       "      <td>1678</td>\n",
       "      <td>0.2</td>\n",
       "    </tr>\n",
       "    <tr>\n",
       "      <th>99996</th>\n",
       "      <td>862</td>\n",
       "      <td>1677</td>\n",
       "      <td>-0.2</td>\n",
       "    </tr>\n",
       "    <tr>\n",
       "      <th>99997</th>\n",
       "      <td>862</td>\n",
       "      <td>1679</td>\n",
       "      <td>0.0</td>\n",
       "    </tr>\n",
       "    <tr>\n",
       "      <th>99998</th>\n",
       "      <td>895</td>\n",
       "      <td>1680</td>\n",
       "      <td>0.2</td>\n",
       "    </tr>\n",
       "    <tr>\n",
       "      <th>99999</th>\n",
       "      <td>915</td>\n",
       "      <td>1681</td>\n",
       "      <td>0.2</td>\n",
       "    </tr>\n",
       "  </tbody>\n",
       "</table>\n",
       "<p>100000 rows × 3 columns</p>\n",
       "</div>"
      ],
      "text/plain": [
       "       user_id  movie_id  rating\n",
       "0          195       241     0.2\n",
       "1          304       241     0.6\n",
       "2            5       241     0.4\n",
       "3          233       241     0.4\n",
       "4           62       241     0.2\n",
       "...        ...       ...     ...\n",
       "99995      862      1678     0.2\n",
       "99996      862      1677    -0.2\n",
       "99997      862      1679     0.0\n",
       "99998      895      1680     0.2\n",
       "99999      915      1681     0.2\n",
       "\n",
       "[100000 rows x 3 columns]"
      ]
     },
     "execution_count": 5,
     "metadata": {},
     "output_type": "execute_result"
    }
   ],
   "source": [
    "features_X = ['user_id', 'movie_id']\n",
    "feature_Y = 'rating'\n",
    "df_main = data_loader.df[features_X + [feature_Y]]\n",
    "for feature in features_X:\n",
    "  df_main[feature] = df_main[feature].astype('int32')\n",
    "df_main"
   ]
  },
  {
   "attachments": {},
   "cell_type": "markdown",
   "metadata": {},
   "source": [
    "### trial: k-means clustering straight from csr sparse matrix from the dataset"
   ]
  },
  {
   "cell_type": "code",
   "execution_count": 6,
   "metadata": {},
   "outputs": [
    {
     "data": {
      "text/plain": [
       "array([[0.6, 0.2, 0.4, ..., 0. , 0. , 0. ],\n",
       "       [0.4, 0. , 0. , ..., 0. , 0. , 0. ],\n",
       "       [0. , 0. , 0. , ..., 0. , 0. , 0. ],\n",
       "       ...,\n",
       "       [0.6, 0. , 0. , ..., 0. , 0. , 0. ],\n",
       "       [0. , 0. , 0. , ..., 0. , 0. , 0. ],\n",
       "       [0. , 0.6, 0. , ..., 0. , 0. , 0. ]])"
      ]
     },
     "execution_count": 6,
     "metadata": {},
     "output_type": "execute_result"
    }
   ],
   "source": [
    "# pred, (U, sig, Vt) = eval_svd_factorization(df_main, 'user_id', 'movie_id', 'rating')\n",
    "mat_sparse_main = df_to_np_sparse_matrix(df_main, 'user_id', 'movie_id', 'rating')\n",
    "\n",
    "mat_sparse_main"
   ]
  },
  {
   "cell_type": "code",
   "execution_count": 7,
   "metadata": {},
   "outputs": [
    {
     "name": "stderr",
     "output_type": "stream",
     "text": [
      "c:\\Python310\\lib\\site-packages\\sklearn\\cluster\\_kmeans.py:870: FutureWarning: The default value of `n_init` will change from 10 to 'auto' in 1.4. Set the value of `n_init` explicitly to suppress the warning\n",
      "  warnings.warn(\n"
     ]
    },
    {
     "data": {
      "text/plain": [
       "(9793.840887696468,\n",
       " array([[ 1.93063584e-01,  3.69942197e-02,  1.84971098e-02, ...,\n",
       "          0.00000000e+00,  1.08420217e-19,  1.08420217e-19],\n",
       "        [ 3.62500000e-01,  3.75000000e-02,  1.25000000e-02, ...,\n",
       "          0.00000000e+00,  2.71050543e-20,  2.71050543e-20],\n",
       "        [ 4.00000000e-02,  5.55555556e-04,  2.22222222e-03, ...,\n",
       "          0.00000000e+00,  3.79470760e-19,  3.79470760e-19],\n",
       "        ...,\n",
       "        [ 1.40983607e-01,  2.29508197e-02,  3.27868852e-03, ...,\n",
       "          0.00000000e+00, -8.13151629e-20, -8.13151629e-20],\n",
       "        [ 3.55000000e-01,  1.40000000e-01, -1.00000000e-02, ...,\n",
       "          0.00000000e+00,  5.00000000e-03, -2.71050543e-20],\n",
       "        [ 3.42857143e-01,  1.71428571e-01,  1.14285714e-01, ...,\n",
       "          0.00000000e+00,  0.00000000e+00,  0.00000000e+00]]))"
      ]
     },
     "execution_count": 7,
     "metadata": {},
     "output_type": "execute_result"
    }
   ],
   "source": [
    "n_clusters = 10\n",
    "\n",
    "kmeans = sklearn_kmeans(n_clusters=n_clusters)\n",
    "kmeans.fit(mat_sparse_main)\n",
    "kmeans.inertia_, kmeans.cluster_centers_"
   ]
  },
  {
   "cell_type": "code",
   "execution_count": 8,
   "metadata": {},
   "outputs": [
    {
     "data": {
      "text/plain": [
       "[array([ 62, 248,  89,  17, 269, 239, 143,  20, 128, 201, 203,  85, 460,\n",
       "        485, 484, 532, 565, 573, 616, 679, 723, 719, 732, 757, 868, 893,\n",
       "        936,  21,  86, 266, 127, 212, 124, 150, 313, 325, 335, 378, 386,\n",
       "        428, 434, 477, 503, 513, 523, 544, 605, 624, 641, 642, 689, 704,\n",
       "        711, 737, 795, 845, 859, 877, 896, 933, 255, 448, 564, 785, 794,\n",
       "        343, 467, 755, 935,  61, 115, 234, 321, 487, 526, 617, 805, 822,\n",
       "        912, 345, 111,  46,  38, 445, 468, 506, 798, 841, 873, 147, 213,\n",
       "        296, 390, 420, 492, 604, 606, 775, 391, 451, 156, 250,  67, 191,\n",
       "        401, 433, 500, 629, 717, 778, 769, 791, 824, 871, 167,  77,  52,\n",
       "        226, 265, 533, 583, 833,  49, 240, 258, 160, 133, 145, 142, 146,\n",
       "        257, 323, 371, 422, 528, 555, 569, 625, 644, 684, 735, 780, 796,\n",
       "        826, 828, 874, 923, 187, 927, 247, 444, 549, 648, 729, 792, 159,\n",
       "        608, 856, 525, 149, 741, 374, 800, 577, 812, 254, 385, 728,  32,\n",
       "          3, 168, 854, 570]),\n",
       " array([270, 112, 696,  42, 620, 847, 473, 534, 131, 410, 692, 236, 447,\n",
       "        597, 758, 899]),\n",
       " array([  5, 233,  12,  13, 122, 295, 110, 130, 225, 305,   1, 204, 194,\n",
       "        198,  34,  33,  39, 330, 138, 308, 353, 407, 459, 531, 536, 567,\n",
       "        593, 650, 640, 694, 742, 739, 770, 764, 793, 862, 860, 870, 897,\n",
       "        199, 209, 302, 290, 298,  94, 101, 300, 289, 275,   6,  59,  91,\n",
       "        292, 221, 109,  93, 261,  84,   4, 129,  69, 192, 183, 108,  64,\n",
       "        279, 151, 282, 310, 207, 329, 344, 370, 373, 377, 393, 397, 405,\n",
       "        406, 436, 454, 471, 470, 475, 483, 486, 495, 494, 520, 527, 540,\n",
       "        541, 560, 561, 576, 587, 585, 592, 647, 652, 659, 658, 664, 683,\n",
       "        748, 772, 765, 773, 789, 806, 863, 885, 886, 895, 900, 906, 932,\n",
       "         22, 256, 341, 435, 497, 502, 575, 628, 665, 876, 888, 913,  14,\n",
       "        384, 882, 252, 223,  96,   9,  24, 215,  18,  15, 179, 235, 113,\n",
       "        117,  50,  97, 227, 328, 338, 425, 607, 662, 718, 787, 861, 867,\n",
       "        898, 902, 911, 939, 158, 441, 553, 185, 283,  47,  28, 219,  30,\n",
       "        315, 318, 337, 412, 749, 751, 790, 901,  98,  40,  81,  48, 157,\n",
       "         76, 176, 322, 319, 369, 382, 660, 777, 835, 837, 846, 875, 918,\n",
       "        929, 186, 320, 375, 286,  80,  25, 103,  74, 347, 356, 387, 446,\n",
       "        458, 476, 516, 539, 559, 568, 554, 574, 589, 633, 673, 678, 688,\n",
       "        707, 713, 733, 763, 767, 820, 836, 864, 878, 890, 903, 887, 171,\n",
       "        105, 119, 348, 381, 423, 547, 581, 671, 705, 799, 831, 916, 165,\n",
       "         27,  99, 190, 284, 220, 125, 106, 135, 211, 104,  45,  87,  26,\n",
       "        162, 350, 355, 363, 389, 396, 429, 469, 481, 482, 490, 442, 514,\n",
       "        509, 545, 572, 571, 584, 595, 615, 622, 630, 645, 667, 675, 676,\n",
       "        712, 695, 722, 731, 754, 782, 801, 774, 808, 817, 810, 807, 809,\n",
       "        857, 823, 872, 934, 919, 244, 182, 380, 504, 529, 562, 690, 829,\n",
       "        114, 357, 556, 657, 669, 745, 339, 121, 332, 670, 102, 466, 512,\n",
       "        618, 643, 756, 938, 164, 281, 189, 178,   2, 260,  73, 334, 510,\n",
       "        546, 830, 163, 548, 107, 634, 521,  79, 366, 508, 771,   7, 216,\n",
       "        760, 816, 848, 301, 141, 815, 367, 813, 924]),\n",
       " array([195, 706, 674,  10, 452, 550, 710, 814, 834, 880, 884, 166,  88,\n",
       "        858, 443, 781,  43, 360, 889, 621, 154, 853, 175, 721, 838, 613,\n",
       "        251, 686, 632, 736, 708, 685,  35, 259]),\n",
       " array([205,  29, 416, 519, 623, 844, 193, 307, 268, 449, 590, 746, 730,\n",
       "        942, 542, 703, 883, 910,  23, 461, 478, 582, 663, 465, 214, 311,\n",
       "        493, 743, 264, 293, 181, 303, 594, 698, 161, 120,  53, 364, 579,\n",
       "        851,  72, 352, 424, 432, 430, 700, 744, 852, 925, 351, 646, 136,\n",
       "        940, 123, 602,  92, 687, 280, 152, 365]),\n",
       " array([304,   0, 153, 238, 172,  11, 359, 354, 415, 427, 462, 491, 496,\n",
       "        499, 522, 538, 591, 596, 627, 672, 734, 752, 766, 802, 865, 297,\n",
       "        285, 245,  58, 253, 173,  55,  82, 306, 274, 229, 317, 362, 392,\n",
       "        398, 456, 558, 578, 693, 715, 726, 740, 804, 879, 881, 926,  57,\n",
       "        818,  78, 309, 843, 177,  71, 231, 346, 400, 507, 626, 631, 839,\n",
       "        921, 931, 277, 241, 196, 170, 379, 614, 682, 786, 840, 930, 249,\n",
       "         95, 637, 776, 850, 217, 697, 849, 222,  51,  44, 184, 273,  16,\n",
       "        174, 237, 402, 551, 598, 636, 656, 668, 716, 761, 768, 759, 788,\n",
       "        920, 140,  66, 395, 440, 517, 611, 727, 287, 139, 148,  75, 210,\n",
       "        349, 358, 383, 403, 421, 437, 464, 463, 488, 515, 530, 543, 557,\n",
       "        588, 651, 709, 680, 753, 779, 783, 811, 819, 892, 905, 914,  19,\n",
       "        609, 411, 202,  54, 563, 262, 904, 580, 894, 414, 599, 784, 941,\n",
       "         36, 501,  90, 169, 316, 288, 603, 701, 368, 928, 230, 612]),\n",
       " array([144, 208, 243,  37, 312, 326, 681, 891, 915, 263,  63, 653, 498,\n",
       "        155, 137, 691, 291, 677, 724, 426, 489, 511, 661, 825]),\n",
       " array([180, 278, 439, 638, 372, 388, 505, 619, 649, 803, 842, 188, 197,\n",
       "        267, 232, 408, 750, 827, 917, 246, 419, 118,  41, 242, 331, 333,\n",
       "        342, 453, 455, 747, 336, 132, 418, 610, 600, 666, 639, 907,  31,\n",
       "         83, 100, 276, 431, 524, 821, 937, 635, 909, 224,  65, 228,  70,\n",
       "        394, 409, 738, 299, 601, 699, 218, 376,  60]),\n",
       " array([206,   8, 450, 472, 654, 720, 404, 480, 797, 294, 474, 537, 832,\n",
       "        869, 327, 552, 714, 271, 314, 457, 762,  56, 116, 725, 702, 126,\n",
       "        272, 586, 655, 855, 908, 535, 479, 922, 413, 134, 417,  68, 361,\n",
       "        340]),\n",
       " array([200, 438, 324, 866, 399, 566, 518])]"
      ]
     },
     "execution_count": 8,
     "metadata": {},
     "output_type": "execute_result"
    }
   ],
   "source": [
    "user_idx = df_main['user_id'].unique()\n",
    "\n",
    "user_clusters = []\n",
    "for n in range(n_clusters):\n",
    "  user_clusters.append(user_idx[kmeans.labels_ == n])\n",
    "\n",
    "\n",
    "user_clusters"
   ]
  }
 ],
 "metadata": {
  "kernelspec": {
   "display_name": "Python 3",
   "language": "python",
   "name": "python3"
  },
  "language_info": {
   "codemirror_mode": {
    "name": "ipython",
    "version": 3
   },
   "file_extension": ".py",
   "mimetype": "text/x-python",
   "name": "python",
   "nbconvert_exporter": "python",
   "pygments_lexer": "ipython3",
   "version": "3.10.4"
  },
  "orig_nbformat": 4
 },
 "nbformat": 4,
 "nbformat_minor": 2
}
