{
 "cells": [
  {
   "attachments": {},
   "cell_type": "markdown",
   "metadata": {},
   "source": [
    "vtensorflow core implementation** of [mriberodiaz/federatedRecsys](https://github.com/mriberodiaz/federatedRecsys/blob/master/utilsMovie.py)"
   ]
  },
  {
   "cell_type": "code",
   "execution_count": 37,
   "metadata": {},
   "outputs": [],
   "source": [
    "from src.data_examples.ex2_data_loader import ExampleDataLoader\n",
    "from src.tf_utils import df_to_tfds\n",
    "\n",
    "import pandas as pd\n",
    "import tensorflow as tf\n",
    "import numpy as np"
   ]
  },
  {
   "cell_type": "code",
   "execution_count": 38,
   "metadata": {},
   "outputs": [
    {
     "name": "stdout",
     "output_type": "stream",
     "text": [
      "using cached file cache\\datasets\\movielens\\ml-100k.zip\n",
      "extracting zip file content:\n",
      "file already exists: data\\ex2\\ml-100k\n",
      "file already exists: data\\ex2\\ml-100k\\allbut.pl\n",
      "file already exists: data\\ex2\\ml-100k\\mku.sh\n",
      "file already exists: data\\ex2\\ml-100k\\README\n",
      "file already exists: data\\ex2\\ml-100k\\u.data\n",
      "file already exists: data\\ex2\\ml-100k\\u.genre\n",
      "file already exists: data\\ex2\\ml-100k\\u.info\n",
      "file already exists: data\\ex2\\ml-100k\\u.item\n",
      "file already exists: data\\ex2\\ml-100k\\u.occupation\n",
      "file already exists: data\\ex2\\ml-100k\\u.user\n",
      "file already exists: data\\ex2\\ml-100k\\u1.base\n",
      "file already exists: data\\ex2\\ml-100k\\u1.test\n",
      "file already exists: data\\ex2\\ml-100k\\u2.base\n",
      "file already exists: data\\ex2\\ml-100k\\u2.test\n",
      "file already exists: data\\ex2\\ml-100k\\u3.base\n",
      "file already exists: data\\ex2\\ml-100k\\u3.test\n",
      "file already exists: data\\ex2\\ml-100k\\u4.base\n",
      "file already exists: data\\ex2\\ml-100k\\u4.test\n",
      "file already exists: data\\ex2\\ml-100k\\u5.base\n",
      "file already exists: data\\ex2\\ml-100k\\u5.test\n",
      "file already exists: data\\ex2\\ml-100k\\ua.base\n",
      "file already exists: data\\ex2\\ml-100k\\ua.test\n",
      "file already exists: data\\ex2\\ml-100k\\ub.base\n",
      "file already exists: data\\ex2\\ml-100k\\ub.test\n"
     ]
    },
    {
     "name": "stderr",
     "output_type": "stream",
     "text": [
      "c:\\Python310\\lib\\site-packages\\pandas\\util\\_decorators.py:311: ParserWarning: Both a converter and dtype were specified for column user_id - only the converter will be used.\n",
      "  return func(*args, **kwargs)\n",
      "c:\\Python310\\lib\\site-packages\\pandas\\util\\_decorators.py:311: ParserWarning: Both a converter and dtype were specified for column user_id - only the converter will be used.\n",
      "  return func(*args, **kwargs)\n",
      "c:\\Python310\\lib\\site-packages\\pandas\\util\\_decorators.py:311: ParserWarning: Both a converter and dtype were specified for column movie_id - only the converter will be used.\n",
      "  return func(*args, **kwargs)\n",
      "c:\\Python310\\lib\\site-packages\\pandas\\util\\_decorators.py:311: ParserWarning: Both a converter and dtype were specified for column movie_id - only the converter will be used.\n",
      "  return func(*args, **kwargs)\n",
      "c:\\Python310\\lib\\site-packages\\pandas\\util\\_decorators.py:311: ParserWarning: Both a converter and dtype were specified for column release_date - only the converter will be used.\n",
      "  return func(*args, **kwargs)\n"
     ]
    }
   ],
   "source": [
    "data_loader = ExampleDataLoader()\n",
    "data_loader.download().load().clean()"
   ]
  },
  {
   "cell_type": "code",
   "execution_count": 98,
   "metadata": {},
   "outputs": [
    {
     "data": {
      "text/html": [
       "<div>\n",
       "<style scoped>\n",
       "    .dataframe tbody tr th:only-of-type {\n",
       "        vertical-align: middle;\n",
       "    }\n",
       "\n",
       "    .dataframe tbody tr th {\n",
       "        vertical-align: top;\n",
       "    }\n",
       "\n",
       "    .dataframe thead th {\n",
       "        text-align: right;\n",
       "    }\n",
       "</style>\n",
       "<table border=\"1\" class=\"dataframe\">\n",
       "  <thead>\n",
       "    <tr style=\"text-align: right;\">\n",
       "      <th></th>\n",
       "      <th>user_id</th>\n",
       "      <th>movie_id</th>\n",
       "      <th>rating</th>\n",
       "      <th>unix_timestamp</th>\n",
       "    </tr>\n",
       "  </thead>\n",
       "  <tbody>\n",
       "    <tr>\n",
       "      <th>0</th>\n",
       "      <td>195</td>\n",
       "      <td>241</td>\n",
       "      <td>3.0</td>\n",
       "      <td>881250949</td>\n",
       "    </tr>\n",
       "    <tr>\n",
       "      <th>1</th>\n",
       "      <td>185</td>\n",
       "      <td>301</td>\n",
       "      <td>3.0</td>\n",
       "      <td>891717742</td>\n",
       "    </tr>\n",
       "    <tr>\n",
       "      <th>2</th>\n",
       "      <td>21</td>\n",
       "      <td>376</td>\n",
       "      <td>1.0</td>\n",
       "      <td>878887116</td>\n",
       "    </tr>\n",
       "    <tr>\n",
       "      <th>3</th>\n",
       "      <td>243</td>\n",
       "      <td>50</td>\n",
       "      <td>2.0</td>\n",
       "      <td>880606923</td>\n",
       "    </tr>\n",
       "    <tr>\n",
       "      <th>4</th>\n",
       "      <td>165</td>\n",
       "      <td>345</td>\n",
       "      <td>1.0</td>\n",
       "      <td>886397596</td>\n",
       "    </tr>\n",
       "    <tr>\n",
       "      <th>...</th>\n",
       "      <td>...</td>\n",
       "      <td>...</td>\n",
       "      <td>...</td>\n",
       "      <td>...</td>\n",
       "    </tr>\n",
       "    <tr>\n",
       "      <th>99995</th>\n",
       "      <td>879</td>\n",
       "      <td>475</td>\n",
       "      <td>3.0</td>\n",
       "      <td>880175444</td>\n",
       "    </tr>\n",
       "    <tr>\n",
       "      <th>99996</th>\n",
       "      <td>715</td>\n",
       "      <td>203</td>\n",
       "      <td>5.0</td>\n",
       "      <td>879795543</td>\n",
       "    </tr>\n",
       "    <tr>\n",
       "      <th>99997</th>\n",
       "      <td>275</td>\n",
       "      <td>1089</td>\n",
       "      <td>1.0</td>\n",
       "      <td>874795795</td>\n",
       "    </tr>\n",
       "    <tr>\n",
       "      <th>99998</th>\n",
       "      <td>12</td>\n",
       "      <td>224</td>\n",
       "      <td>2.0</td>\n",
       "      <td>882399156</td>\n",
       "    </tr>\n",
       "    <tr>\n",
       "      <th>99999</th>\n",
       "      <td>11</td>\n",
       "      <td>202</td>\n",
       "      <td>3.0</td>\n",
       "      <td>879959583</td>\n",
       "    </tr>\n",
       "  </tbody>\n",
       "</table>\n",
       "<p>100000 rows × 4 columns</p>\n",
       "</div>"
      ],
      "text/plain": [
       "      user_id movie_id  rating  unix_timestamp\n",
       "0         195      241     3.0       881250949\n",
       "1         185      301     3.0       891717742\n",
       "2          21      376     1.0       878887116\n",
       "3         243       50     2.0       880606923\n",
       "4         165      345     1.0       886397596\n",
       "...       ...      ...     ...             ...\n",
       "99995     879      475     3.0       880175444\n",
       "99996     715      203     5.0       879795543\n",
       "99997     275     1089     1.0       874795795\n",
       "99998      12      224     2.0       882399156\n",
       "99999      11      202     3.0       879959583\n",
       "\n",
       "[100000 rows x 4 columns]"
      ]
     },
     "execution_count": 98,
     "metadata": {},
     "output_type": "execute_result"
    }
   ],
   "source": [
    "data_loader.df_ratings\n"
   ]
  },
  {
   "cell_type": "code",
   "execution_count": 52,
   "metadata": {},
   "outputs": [],
   "source": [
    "# build sparse matrix tensor from dataframe\n",
    "def build_sparse_tensor(df: pd.DataFrame, indices_cols: list, value_col: str, dense_shape: tuple):\n",
    "  indices = df[indices_cols].values\n",
    "  values = df[value_col].values\n",
    "\n",
    "  return tf.SparseTensor(\n",
    "    indices=indices,\n",
    "    values=values,\n",
    "    dense_shape=dense_shape\n",
    "  )\n",
    "\n",
    "\n",
    "# tf sparse matrix mean squared error\n",
    "def sparse_mse(sparse, embeddings: list):\n",
    "  loss = 0\n",
    "\n",
    "  axis_els = tf.gather(embeddings.pop(0), sparse.indices[:, 0])\n",
    "  i = 0\n",
    "  for embedding in embeddings[1:]:\n",
    "    i += 1 \n",
    "    axis_els *= tf.gather(embedding, sparse.indices[:, 0])\n",
    "  sums = tf.reduce_sum(axis_els, axis=1)\n",
    "  loss = tf.losses.mean_squared_error(sparse.values, sums)\n",
    "  return loss"
   ]
  },
  {
   "cell_type": "code",
   "execution_count": 53,
   "metadata": {},
   "outputs": [
    {
     "data": {
      "text/plain": [
       "SparseTensor(indices=tf.Tensor(\n",
       "[[ 241  195]\n",
       " [ 301  185]\n",
       " [ 376   21]\n",
       " ...\n",
       " [1089  275]\n",
       " [ 224   12]\n",
       " [ 202   11]], shape=(100000, 2), dtype=int64), values=tf.Tensor([3. 3. 1. ... 1. 2. 3.], shape=(100000,), dtype=float64), dense_shape=tf.Tensor([1682  943], shape=(2,), dtype=int64))"
      ]
     },
     "execution_count": 53,
     "metadata": {},
     "output_type": "execute_result"
    }
   ],
   "source": [
    "rating_sparse = build_sparse_tensor(data_loader.df_ratings, \n",
    "  indices_cols=['movie_id', 'user_id'],\n",
    "  value_col='rating',\n",
    "  dense_shape=[\n",
    "    data_loader.df_movies.shape[0],\n",
    "    data_loader.df_users.shape[0]]\n",
    ")\n",
    "\n",
    "rating_sparse"
   ]
  },
  {
   "cell_type": "code",
   "execution_count": 97,
   "metadata": {},
   "outputs": [
    {
     "data": {
      "text/plain": [
       "<tf.Tensor: shape=(), dtype=float32, numpy=17.05524>"
      ]
     },
     "execution_count": 97,
     "metadata": {},
     "output_type": "execute_result"
    }
   ],
   "source": [
    "U = tf.Variable(tf.random.normal([rating_sparse.dense_shape[0], 3], stddev=1.0))\n",
    "V = tf.Variable(tf.random.normal([rating_sparse.dense_shape[1], 3], stddev=1.0))\n",
    "\n",
    "embeddings = {\n",
    "    \"user_id\": U,\n",
    "    \"movie_id\": V\n",
    "}\n",
    "\n",
    "__rating_loss = sparse_mse(rating_sparse, embeddings=[U, V])\n",
    "\n",
    "__rating_loss"
   ]
  },
  {
   "cell_type": "code",
   "execution_count": null,
   "metadata": {},
   "outputs": [],
   "source": [
    "class CollaborativeFilteringModel:\n",
    "  def __init__(self, embedding_vars, loss, metrics=None):\n",
    "    self._embedding_vars = embedding_vars\n",
    "    self._loss = loss\n",
    "    self._metrics = metrics\n",
    "\n",
    "    self._embeddings = {i:None for i in self._embedding_vars}\n",
    "    self._session = None\n",
    "\n",
    "  def train(\n",
    "    self,\n",
    "    n_iter=1000,\n",
    "    learning_rate=.5\n",
    "  ):\n",
    "    return"
   ]
  }
 ],
 "metadata": {
  "kernelspec": {
   "display_name": "Python 3",
   "language": "python",
   "name": "python3"
  },
  "language_info": {
   "codemirror_mode": {
    "name": "ipython",
    "version": 3
   },
   "file_extension": ".py",
   "mimetype": "text/x-python",
   "name": "python",
   "nbconvert_exporter": "python",
   "pygments_lexer": "ipython3",
   "version": "3.10.4"
  },
  "orig_nbformat": 4
 },
 "nbformat": 4,
 "nbformat_minor": 2
}
