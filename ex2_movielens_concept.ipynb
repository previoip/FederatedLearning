{
 "cells": [
  {
   "cell_type": "code",
   "execution_count": 4,
   "metadata": {},
   "outputs": [],
   "source": [
    "from src.data_examples.ex2_data_loader import ExampleDataLoader\n",
    "import tensorflow_datasets as tf_dataset\n",
    "\n",
    "import pandas as pd"
   ]
  },
  {
   "cell_type": "code",
   "execution_count": 5,
   "metadata": {},
   "outputs": [
    {
     "name": "stdout",
     "output_type": "stream",
     "text": [
      "using cached file cache\\datasets\\movielens\\ml-100k.zip\n",
      "extracting zip file content:\n",
      "file already exists: data\\ex2\\ml-100k\n",
      "file already exists: data\\ex2\\ml-100k\\allbut.pl\n",
      "file already exists: data\\ex2\\ml-100k\\mku.sh\n",
      "file already exists: data\\ex2\\ml-100k\\README\n",
      "file already exists: data\\ex2\\ml-100k\\u.data\n",
      "file already exists: data\\ex2\\ml-100k\\u.genre\n",
      "file already exists: data\\ex2\\ml-100k\\u.info\n",
      "file already exists: data\\ex2\\ml-100k\\u.item\n",
      "file already exists: data\\ex2\\ml-100k\\u.occupation\n",
      "file already exists: data\\ex2\\ml-100k\\u.user\n",
      "file already exists: data\\ex2\\ml-100k\\u1.base\n",
      "file already exists: data\\ex2\\ml-100k\\u1.test\n",
      "file already exists: data\\ex2\\ml-100k\\u2.base\n",
      "file already exists: data\\ex2\\ml-100k\\u2.test\n",
      "file already exists: data\\ex2\\ml-100k\\u3.base\n",
      "file already exists: data\\ex2\\ml-100k\\u3.test\n",
      "file already exists: data\\ex2\\ml-100k\\u4.base\n",
      "file already exists: data\\ex2\\ml-100k\\u4.test\n",
      "file already exists: data\\ex2\\ml-100k\\u5.base\n",
      "file already exists: data\\ex2\\ml-100k\\u5.test\n",
      "file already exists: data\\ex2\\ml-100k\\ua.base\n",
      "file already exists: data\\ex2\\ml-100k\\ua.test\n",
      "file already exists: data\\ex2\\ml-100k\\ub.base\n",
      "file already exists: data\\ex2\\ml-100k\\ub.test\n"
     ]
    },
    {
     "name": "stderr",
     "output_type": "stream",
     "text": [
      "c:\\Python310\\lib\\site-packages\\pandas\\util\\_decorators.py:311: ParserWarning: Both a converter and dtype were specified for column user_id - only the converter will be used.\n",
      "  return func(*args, **kwargs)\n",
      "c:\\Python310\\lib\\site-packages\\pandas\\util\\_decorators.py:311: ParserWarning: Both a converter and dtype were specified for column user_id - only the converter will be used.\n",
      "  return func(*args, **kwargs)\n",
      "c:\\Python310\\lib\\site-packages\\pandas\\util\\_decorators.py:311: ParserWarning: Both a converter and dtype were specified for column movie_id - only the converter will be used.\n",
      "  return func(*args, **kwargs)\n",
      "c:\\Python310\\lib\\site-packages\\pandas\\util\\_decorators.py:311: ParserWarning: Both a converter and dtype were specified for column unix_timestamp - only the converter will be used.\n",
      "  return func(*args, **kwargs)\n",
      "c:\\Python310\\lib\\site-packages\\pandas\\util\\_decorators.py:311: ParserWarning: Both a converter and dtype were specified for column movie_id - only the converter will be used.\n",
      "  return func(*args, **kwargs)\n",
      "c:\\Python310\\lib\\site-packages\\pandas\\util\\_decorators.py:311: ParserWarning: Both a converter and dtype were specified for column release_date - only the converter will be used.\n",
      "  return func(*args, **kwargs)\n"
     ]
    }
   ],
   "source": [
    "data_loader = ExampleDataLoader()\n",
    "data_loader.download().load().clean()"
   ]
  },
  {
   "cell_type": "code",
   "execution_count": 6,
   "metadata": {},
   "outputs": [
    {
     "ename": "NameError",
     "evalue": "name 'data' is not defined",
     "output_type": "error",
     "traceback": [
      "\u001b[1;31m---------------------------------------------------------------------------\u001b[0m",
      "\u001b[1;31mNameError\u001b[0m                                 Traceback (most recent call last)",
      "\u001b[1;32mc:\\Users\\62896\\Documents\\GitHub\\FederatedLearning\\ex2_movielens_concept.ipynb Cell 3\u001b[0m in \u001b[0;36m1\n\u001b[1;32m----> <a href='vscode-notebook-cell:/c%3A/Users/62896/Documents/GitHub/FederatedLearning/ex2_movielens_concept.ipynb#W2sZmlsZQ%3D%3D?line=0'>1</a>\u001b[0m data\u001b[39m.\u001b[39mdf\n",
      "\u001b[1;31mNameError\u001b[0m: name 'data' is not defined"
     ]
    }
   ],
   "source": [
    "data_loader.df"
   ]
  }
 ],
 "metadata": {
  "kernelspec": {
   "display_name": "Python 3",
   "language": "python",
   "name": "python3"
  },
  "language_info": {
   "codemirror_mode": {
    "name": "ipython",
    "version": 3
   },
   "file_extension": ".py",
   "mimetype": "text/x-python",
   "name": "python",
   "nbconvert_exporter": "python",
   "pygments_lexer": "ipython3",
   "version": "3.10.4"
  },
  "orig_nbformat": 4
 },
 "nbformat": 4,
 "nbformat_minor": 2
}
