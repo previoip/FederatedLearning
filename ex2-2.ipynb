{
 "cells": [
  {
   "cell_type": "code",
   "execution_count": 1,
   "metadata": {},
   "outputs": [],
   "source": [
    "from src.data_examples.ex2_data_loader_1m import ExampleDataLoader\n",
    "\n",
    "import pandas as pd\n",
    "import numpy as np\n",
    "from src.emulator import UnitProcess, TaskWrapper\n",
    "\n",
    "pd.options.mode.chained_assignment = None"
   ]
  },
  {
   "cell_type": "code",
   "execution_count": 2,
   "metadata": {},
   "outputs": [
    {
     "name": "stdout",
     "output_type": "stream",
     "text": [
      "using cached file cache\\datasets\\movielens\\ml-1m.zip\n",
      "extracting zip file content:\n",
      "file already exists: data\\ex2_1m\\ml-1m\n",
      "file already exists: data\\ex2_1m\\ml-1m\\movies.dat\n",
      "file already exists: data\\ex2_1m\\ml-1m\\ratings.dat\n",
      "file already exists: data\\ex2_1m\\ml-1m\\README\n",
      "file already exists: data\\ex2_1m\\ml-1m\\users.dat\n"
     ]
    },
    {
     "name": "stderr",
     "output_type": "stream",
     "text": [
      "c:\\Users\\62896\\Documents\\GitHub\\FederatedLearning\\src\\data_examples\\ex2_data_loader_1m.py:152: ParserWarning: Falling back to the 'python' engine because the 'c' engine does not support regex separators (separators > 1 char and different from '\\s+' are interpreted as regex); you can avoid this warning by specifying engine='python'.\n",
      "  df = pd.read_csv(\n",
      "c:\\Users\\62896\\Documents\\GitHub\\FederatedLearning\\src\\data_examples\\ex2_data_loader_1m.py:152: ParserWarning: Both a converter and dtype were specified for column user_id - only the converter will be used.\n",
      "  df = pd.read_csv(\n",
      "c:\\Users\\62896\\Documents\\GitHub\\FederatedLearning\\src\\data_examples\\ex2_data_loader_1m.py:152: ParserWarning: Falling back to the 'python' engine because the 'c' engine does not support regex separators (separators > 1 char and different from '\\s+' are interpreted as regex); you can avoid this warning by specifying engine='python'.\n",
      "  df = pd.read_csv(\n",
      "c:\\Users\\62896\\Documents\\GitHub\\FederatedLearning\\src\\data_examples\\ex2_data_loader_1m.py:152: ParserWarning: Both a converter and dtype were specified for column user_id - only the converter will be used.\n",
      "  df = pd.read_csv(\n",
      "c:\\Users\\62896\\Documents\\GitHub\\FederatedLearning\\src\\data_examples\\ex2_data_loader_1m.py:152: ParserWarning: Both a converter and dtype were specified for column movie_id - only the converter will be used.\n",
      "  df = pd.read_csv(\n",
      "c:\\Users\\62896\\Documents\\GitHub\\FederatedLearning\\src\\data_examples\\ex2_data_loader_1m.py:152: ParserWarning: Falling back to the 'python' engine because the 'c' engine does not support regex separators (separators > 1 char and different from '\\s+' are interpreted as regex); you can avoid this warning by specifying engine='python'.\n",
      "  df = pd.read_csv(\n",
      "c:\\Users\\62896\\Documents\\GitHub\\FederatedLearning\\src\\data_examples\\ex2_data_loader_1m.py:152: ParserWarning: Both a converter and dtype were specified for column movie_id - only the converter will be used.\n",
      "  df = pd.read_csv(\n"
     ]
    },
    {
     "data": {
      "text/plain": [
       "<src.data_examples.ex2_data_loader_1m.ExampleDataLoader at 0x1bba1c33730>"
      ]
     },
     "execution_count": 2,
     "metadata": {},
     "output_type": "execute_result"
    }
   ],
   "source": [
    "data_loader = ExampleDataLoader()\n",
    "data_loader.download().load().remap()"
   ]
  },
  {
   "cell_type": "code",
   "execution_count": 3,
   "metadata": {},
   "outputs": [],
   "source": [
    "# fixed size units\n",
    "\n",
    "movie_size = 10e6\n",
    "\n",
    "num_cl = 100\n",
    "num_ue = data_loader.df_users['user_id'].nunique()\n",
    "\n",
    "df_movies = data_loader.df_movies\n",
    "df_movies['sizeof'] = movie_size\n",
    "df_movies['movie_id'] = df_movies['movie_id'].astype('int')\n",
    "df_movies.set_index('movie_id', drop=False, inplace=True)"
   ]
  },
  {
   "cell_type": "code",
   "execution_count": 4,
   "metadata": {},
   "outputs": [
    {
     "data": {
      "text/html": [
       "<div>\n",
       "<style scoped>\n",
       "    .dataframe tbody tr th:only-of-type {\n",
       "        vertical-align: middle;\n",
       "    }\n",
       "\n",
       "    .dataframe tbody tr th {\n",
       "        vertical-align: top;\n",
       "    }\n",
       "\n",
       "    .dataframe thead th {\n",
       "        text-align: right;\n",
       "    }\n",
       "</style>\n",
       "<table border=\"1\" class=\"dataframe\">\n",
       "  <thead>\n",
       "    <tr style=\"text-align: right;\">\n",
       "      <th></th>\n",
       "      <th>movie_id</th>\n",
       "      <th>title</th>\n",
       "      <th>genres</th>\n",
       "      <th>sizeof</th>\n",
       "    </tr>\n",
       "    <tr>\n",
       "      <th>movie_id</th>\n",
       "      <th></th>\n",
       "      <th></th>\n",
       "      <th></th>\n",
       "      <th></th>\n",
       "    </tr>\n",
       "  </thead>\n",
       "  <tbody>\n",
       "    <tr>\n",
       "      <th>0</th>\n",
       "      <td>0</td>\n",
       "      <td>Toy Story (1995)</td>\n",
       "      <td>Animation|Children's|Comedy</td>\n",
       "      <td>10000000.0</td>\n",
       "    </tr>\n",
       "    <tr>\n",
       "      <th>1</th>\n",
       "      <td>1</td>\n",
       "      <td>Jumanji (1995)</td>\n",
       "      <td>Adventure|Children's|Fantasy</td>\n",
       "      <td>10000000.0</td>\n",
       "    </tr>\n",
       "    <tr>\n",
       "      <th>2</th>\n",
       "      <td>2</td>\n",
       "      <td>Grumpier Old Men (1995)</td>\n",
       "      <td>Comedy|Romance</td>\n",
       "      <td>10000000.0</td>\n",
       "    </tr>\n",
       "    <tr>\n",
       "      <th>3</th>\n",
       "      <td>3</td>\n",
       "      <td>Waiting to Exhale (1995)</td>\n",
       "      <td>Comedy|Drama</td>\n",
       "      <td>10000000.0</td>\n",
       "    </tr>\n",
       "    <tr>\n",
       "      <th>4</th>\n",
       "      <td>4</td>\n",
       "      <td>Father of the Bride Part II (1995)</td>\n",
       "      <td>Comedy</td>\n",
       "      <td>10000000.0</td>\n",
       "    </tr>\n",
       "    <tr>\n",
       "      <th>...</th>\n",
       "      <td>...</td>\n",
       "      <td>...</td>\n",
       "      <td>...</td>\n",
       "      <td>...</td>\n",
       "    </tr>\n",
       "    <tr>\n",
       "      <th>3947</th>\n",
       "      <td>3947</td>\n",
       "      <td>Meet the Parents (2000)</td>\n",
       "      <td>Comedy</td>\n",
       "      <td>10000000.0</td>\n",
       "    </tr>\n",
       "    <tr>\n",
       "      <th>3948</th>\n",
       "      <td>3948</td>\n",
       "      <td>Requiem for a Dream (2000)</td>\n",
       "      <td>Drama</td>\n",
       "      <td>10000000.0</td>\n",
       "    </tr>\n",
       "    <tr>\n",
       "      <th>3949</th>\n",
       "      <td>3949</td>\n",
       "      <td>Tigerland (2000)</td>\n",
       "      <td>Drama</td>\n",
       "      <td>10000000.0</td>\n",
       "    </tr>\n",
       "    <tr>\n",
       "      <th>3950</th>\n",
       "      <td>3950</td>\n",
       "      <td>Two Family House (2000)</td>\n",
       "      <td>Drama</td>\n",
       "      <td>10000000.0</td>\n",
       "    </tr>\n",
       "    <tr>\n",
       "      <th>3951</th>\n",
       "      <td>3951</td>\n",
       "      <td>Contender, The (2000)</td>\n",
       "      <td>Drama|Thriller</td>\n",
       "      <td>10000000.0</td>\n",
       "    </tr>\n",
       "  </tbody>\n",
       "</table>\n",
       "<p>3883 rows × 4 columns</p>\n",
       "</div>"
      ],
      "text/plain": [
       "          movie_id                               title  \\\n",
       "movie_id                                                 \n",
       "0                0                    Toy Story (1995)   \n",
       "1                1                      Jumanji (1995)   \n",
       "2                2             Grumpier Old Men (1995)   \n",
       "3                3            Waiting to Exhale (1995)   \n",
       "4                4  Father of the Bride Part II (1995)   \n",
       "...            ...                                 ...   \n",
       "3947          3947             Meet the Parents (2000)   \n",
       "3948          3948          Requiem for a Dream (2000)   \n",
       "3949          3949                    Tigerland (2000)   \n",
       "3950          3950             Two Family House (2000)   \n",
       "3951          3951               Contender, The (2000)   \n",
       "\n",
       "                                genres      sizeof  \n",
       "movie_id                                            \n",
       "0          Animation|Children's|Comedy  10000000.0  \n",
       "1         Adventure|Children's|Fantasy  10000000.0  \n",
       "2                       Comedy|Romance  10000000.0  \n",
       "3                         Comedy|Drama  10000000.0  \n",
       "4                               Comedy  10000000.0  \n",
       "...                                ...         ...  \n",
       "3947                            Comedy  10000000.0  \n",
       "3948                             Drama  10000000.0  \n",
       "3949                             Drama  10000000.0  \n",
       "3950                             Drama  10000000.0  \n",
       "3951                    Drama|Thriller  10000000.0  \n",
       "\n",
       "[3883 rows x 4 columns]"
      ]
     },
     "execution_count": 4,
     "metadata": {},
     "output_type": "execute_result"
    }
   ],
   "source": [
    "df_movies"
   ]
  },
  {
   "cell_type": "code",
   "execution_count": 5,
   "metadata": {},
   "outputs": [],
   "source": [
    "def handle_cache_overflow(tw, host, local_vars):\n",
    "  host.run_task('handle_used_storage_calc')\n",
    "  if local_vars.get('used') > local_vars.get('alloc'):\n",
    "    host.run_task('handle_clean_cache')\n",
    "\n",
    "def handle_used_storage_calc(tw, host, local_vars):\n",
    "  disk = local_vars.get('disk')\n",
    "  local_vars['used'] = sum([i['sizeof'] for i in disk])\n",
    "\n",
    "def handle_clean_cache_lifo(tw, host, local_vars):\n",
    "  local_vars.get('disk').pop(0)\n",
    "  host.run_task('handle_used_storage_calc')\n",
    "\n",
    "def handle_clean_cache_fifo(tw, host, local_vars):\n",
    "  local_vars.get('disk').pop(-1)\n",
    "  host.run_task('handle_used_storage_calc')\n",
    "\n",
    "def handle_request(tw, host, local_vars, server_name, movie_id):\n",
    "  client = None\n",
    "  for child in host.children:\n",
    "    if child.name == server_name:\n",
    "      client = child\n",
    "      break\n",
    "\n",
    "  else:\n",
    "    # no child is found\n",
    "    return\n",
    "\n",
    "  found_flag = False\n",
    "  content = None\n",
    "\n",
    "  # check if current requested content is in cached local variables\n",
    "  for cached_content in local_vars['disk']:\n",
    "    if cached_content['movie_id'] == movie_id:\n",
    "      content = cached_content\n",
    "      found_flag = True\n",
    "      break\n",
    "\n",
    "  # check if sibling nodes have requested content for lesser request penalty\n",
    "\n",
    "\n",
    "  # else fetch from db directly with larger penalty\n",
    "  if not found_flag:\n",
    "    db = local_vars.get('movie_db')\n",
    "    content = db.loc[movie_id]\n",
    "\n",
    "  # check if content already in disk, else put item in the front of ordered list\n",
    "  disk_movie_ids = [i['movie_id'] for i in local_vars['disk']]\n",
    "  if content['movie_id'] in disk_movie_ids:\n",
    "    local_vars['disk'].pop(disk_movie_ids.index(int(content.movie_id)))\n",
    "  local_vars['disk'].append(content)\n",
    "\n",
    "  # send content to client\n",
    "  client.local_vars['content_buf'] = content\n",
    "  # call clean cache event\n",
    "  host.run_task('handle_cache_overflow')\n",
    "\n",
    "def handle_send_content_request(tw, host, local_vars, movie_id):\n",
    "  host.parent.run_task('handle_request', server_name=host.name, movie_id=movie_id)"
   ]
  },
  {
   "cell_type": "code",
   "execution_count": 6,
   "metadata": {},
   "outputs": [],
   "source": [
    "bs = UnitProcess('BaseServer')\n",
    "bs.local_vars['movie_db'] = df_movies\n",
    "bs.local_vars.update({\n",
    "  'alloc': movie_size * 1000,\n",
    "  'used': 0,\n",
    "  'disk': list(),\n",
    "  'content_buf': None,\n",
    "})\n",
    "\n",
    "bs.create_task('handle_cache_overflow').set_task(handle_cache_overflow)\n",
    "bs.create_task('handle_used_storage_calc').set_task(handle_used_storage_calc)\n",
    "bs.create_task('handle_clean_cache').set_task(handle_clean_cache_lifo)\n",
    "bs.create_task('handle_request').set_task(handle_request)"
   ]
  },
  {
   "cell_type": "code",
   "execution_count": 7,
   "metadata": {},
   "outputs": [],
   "source": [
    "for i in range(num_cl):\n",
    "  cl = bs.spawn_child(f'ClientServer [{i:02}]')\n",
    "  cl.local_vars.update({\n",
    "    'alloc': movie_size * 10,\n",
    "    'used': 0,\n",
    "    'disk': list(),\n",
    "    'content_buf': None,\n",
    "  })\n",
    "\n",
    "  cl.create_task('handle_cache_overflow').set_task(handle_cache_overflow)\n",
    "  cl.create_task('handle_used_storage_calc').set_task(handle_used_storage_calc)\n",
    "  cl.create_task('handle_clean_cache').set_task(handle_clean_cache_lifo)\n",
    "  cl.create_task('handle_request').set_task(handle_request)\n",
    "  cl.create_task('handle_send_content_request').set_task(handle_send_content_request)\n"
   ]
  },
  {
   "cell_type": "code",
   "execution_count": 8,
   "metadata": {},
   "outputs": [
    {
     "data": {
      "text/plain": [
       "movie_id                       1234\n",
       "title       Harold and Maude (1971)\n",
       "genres                       Comedy\n",
       "sizeof                   10000000.0\n",
       "Name: 1234, dtype: object"
      ]
     },
     "execution_count": 8,
     "metadata": {},
     "output_type": "execute_result"
    }
   ],
   "source": [
    "bs.run_task('handle_request', server_name=bs.children[0].name, movie_id=1234)\n",
    "bs.children[0].local_vars['content_buf']"
   ]
  },
  {
   "cell_type": "code",
   "execution_count": 9,
   "metadata": {},
   "outputs": [
    {
     "data": {
      "text/plain": [
       "movie_id                     420\n",
       "title        Black Beauty (1994)\n",
       "genres      Adventure|Children's\n",
       "sizeof                10000000.0\n",
       "Name: 420, dtype: object"
      ]
     },
     "execution_count": 9,
     "metadata": {},
     "output_type": "execute_result"
    }
   ],
   "source": [
    "cl = bs.children[1]\n",
    "cl.run_task('handle_send_content_request', movie_id=420)\n",
    "cl.local_vars['content_buf']"
   ]
  }
 ],
 "metadata": {
  "kernelspec": {
   "display_name": "Python 3",
   "language": "python",
   "name": "python3"
  },
  "language_info": {
   "codemirror_mode": {
    "name": "ipython",
    "version": 3
   },
   "file_extension": ".py",
   "mimetype": "text/x-python",
   "name": "python",
   "nbconvert_exporter": "python",
   "pygments_lexer": "ipython3",
   "version": "3.10.4"
  },
  "orig_nbformat": 4
 },
 "nbformat": 4,
 "nbformat_minor": 2
}
