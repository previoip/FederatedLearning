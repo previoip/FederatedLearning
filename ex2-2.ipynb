{
 "cells": [
  {
   "cell_type": "code",
   "execution_count": 5,
   "metadata": {},
   "outputs": [],
   "source": [
    "from src.data_examples.ex2_data_loader_1m import ExampleDataLoader"
   ]
  },
  {
   "cell_type": "code",
   "execution_count": 6,
   "metadata": {},
   "outputs": [
    {
     "name": "stdout",
     "output_type": "stream",
     "text": [
      "downloading file to cache\\datasets\\movielens\\ml-1m.zip\n",
      "file size: 5917549\n",
      "progress: [===                 ] 17.72%\n",
      "progress: [=======             ] 35.44%\n",
      "progress: [==========          ] 53.16%\n",
      "progress: [==============      ] 70.88%\n",
      "progress: [=================   ] 88.60%\n",
      "progress: [====================] 100.00%\n",
      "extracting zip file content:\n",
      "extracting - size: 0 - filename: ml-1m/\n",
      "extracting - size: 171308 - filename: ml-1m/movies.dat\n",
      "extracting - size: 24594131 - filename: ml-1m/ratings.dat\n",
      "extracting - size: 5577 - filename: ml-1m/README\n",
      "extracting - size: 134368 - filename: ml-1m/users.dat\n"
     ]
    },
    {
     "name": "stderr",
     "output_type": "stream",
     "text": [
      "c:\\Users\\62896\\Documents\\GitHub\\FederatedLearning\\src\\data_examples\\ex2_data_loader_1m.py:107: ParserWarning: Falling back to the 'python' engine because the 'c' engine does not support regex separators (separators > 1 char and different from '\\s+' are interpreted as regex); you can avoid this warning by specifying engine='python'.\n",
      "  df = pd.read_csv(\n",
      "c:\\Users\\62896\\Documents\\GitHub\\FederatedLearning\\src\\data_examples\\ex2_data_loader_1m.py:107: ParserWarning: Both a converter and dtype were specified for column user_id - only the converter will be used.\n",
      "  df = pd.read_csv(\n",
      "c:\\Users\\62896\\Documents\\GitHub\\FederatedLearning\\src\\data_examples\\ex2_data_loader_1m.py:107: ParserWarning: Falling back to the 'python' engine because the 'c' engine does not support regex separators (separators > 1 char and different from '\\s+' are interpreted as regex); you can avoid this warning by specifying engine='python'.\n",
      "  df = pd.read_csv(\n",
      "c:\\Users\\62896\\Documents\\GitHub\\FederatedLearning\\src\\data_examples\\ex2_data_loader_1m.py:107: ParserWarning: Both a converter and dtype were specified for column user_id - only the converter will be used.\n",
      "  df = pd.read_csv(\n",
      "c:\\Users\\62896\\Documents\\GitHub\\FederatedLearning\\src\\data_examples\\ex2_data_loader_1m.py:107: ParserWarning: Both a converter and dtype were specified for column movie_id - only the converter will be used.\n",
      "  df = pd.read_csv(\n",
      "c:\\Users\\62896\\Documents\\GitHub\\FederatedLearning\\src\\data_examples\\ex2_data_loader_1m.py:107: ParserWarning: Falling back to the 'python' engine because the 'c' engine does not support regex separators (separators > 1 char and different from '\\s+' are interpreted as regex); you can avoid this warning by specifying engine='python'.\n",
      "  df = pd.read_csv(\n",
      "c:\\Users\\62896\\Documents\\GitHub\\FederatedLearning\\src\\data_examples\\ex2_data_loader_1m.py:107: ParserWarning: Both a converter and dtype were specified for column movie_id - only the converter will be used.\n",
      "  df = pd.read_csv(\n"
     ]
    },
    {
     "data": {
      "text/plain": [
       "<src.data_examples.ex2_data_loader_1m.ExampleDataLoader at 0x28530075b40>"
      ]
     },
     "execution_count": 6,
     "metadata": {},
     "output_type": "execute_result"
    }
   ],
   "source": [
    "data_loader = ExampleDataLoader()\n",
    "data_loader.download().load()"
   ]
  },
  {
   "cell_type": "code",
   "execution_count": 7,
   "metadata": {},
   "outputs": [
    {
     "data": {
      "text/html": [
       "<div>\n",
       "<style scoped>\n",
       "    .dataframe tbody tr th:only-of-type {\n",
       "        vertical-align: middle;\n",
       "    }\n",
       "\n",
       "    .dataframe tbody tr th {\n",
       "        vertical-align: top;\n",
       "    }\n",
       "\n",
       "    .dataframe thead th {\n",
       "        text-align: right;\n",
       "    }\n",
       "</style>\n",
       "<table border=\"1\" class=\"dataframe\">\n",
       "  <thead>\n",
       "    <tr style=\"text-align: right;\">\n",
       "      <th></th>\n",
       "      <th>user_id</th>\n",
       "      <th>gender</th>\n",
       "      <th>age</th>\n",
       "      <th>occupation</th>\n",
       "      <th>zip_code</th>\n",
       "    </tr>\n",
       "  </thead>\n",
       "  <tbody>\n",
       "    <tr>\n",
       "      <th>0</th>\n",
       "      <td>0</td>\n",
       "      <td>F</td>\n",
       "      <td>1</td>\n",
       "      <td>10</td>\n",
       "      <td>48067</td>\n",
       "    </tr>\n",
       "    <tr>\n",
       "      <th>1</th>\n",
       "      <td>1</td>\n",
       "      <td>M</td>\n",
       "      <td>56</td>\n",
       "      <td>16</td>\n",
       "      <td>70072</td>\n",
       "    </tr>\n",
       "    <tr>\n",
       "      <th>2</th>\n",
       "      <td>2</td>\n",
       "      <td>M</td>\n",
       "      <td>25</td>\n",
       "      <td>15</td>\n",
       "      <td>55117</td>\n",
       "    </tr>\n",
       "    <tr>\n",
       "      <th>3</th>\n",
       "      <td>3</td>\n",
       "      <td>M</td>\n",
       "      <td>45</td>\n",
       "      <td>7</td>\n",
       "      <td>02460</td>\n",
       "    </tr>\n",
       "    <tr>\n",
       "      <th>4</th>\n",
       "      <td>4</td>\n",
       "      <td>M</td>\n",
       "      <td>25</td>\n",
       "      <td>20</td>\n",
       "      <td>55455</td>\n",
       "    </tr>\n",
       "    <tr>\n",
       "      <th>...</th>\n",
       "      <td>...</td>\n",
       "      <td>...</td>\n",
       "      <td>...</td>\n",
       "      <td>...</td>\n",
       "      <td>...</td>\n",
       "    </tr>\n",
       "    <tr>\n",
       "      <th>6035</th>\n",
       "      <td>6035</td>\n",
       "      <td>F</td>\n",
       "      <td>25</td>\n",
       "      <td>15</td>\n",
       "      <td>32603</td>\n",
       "    </tr>\n",
       "    <tr>\n",
       "      <th>6036</th>\n",
       "      <td>6036</td>\n",
       "      <td>F</td>\n",
       "      <td>45</td>\n",
       "      <td>1</td>\n",
       "      <td>76006</td>\n",
       "    </tr>\n",
       "    <tr>\n",
       "      <th>6037</th>\n",
       "      <td>6037</td>\n",
       "      <td>F</td>\n",
       "      <td>56</td>\n",
       "      <td>1</td>\n",
       "      <td>14706</td>\n",
       "    </tr>\n",
       "    <tr>\n",
       "      <th>6038</th>\n",
       "      <td>6038</td>\n",
       "      <td>F</td>\n",
       "      <td>45</td>\n",
       "      <td>0</td>\n",
       "      <td>01060</td>\n",
       "    </tr>\n",
       "    <tr>\n",
       "      <th>6039</th>\n",
       "      <td>6039</td>\n",
       "      <td>M</td>\n",
       "      <td>25</td>\n",
       "      <td>6</td>\n",
       "      <td>11106</td>\n",
       "    </tr>\n",
       "  </tbody>\n",
       "</table>\n",
       "<p>6040 rows × 5 columns</p>\n",
       "</div>"
      ],
      "text/plain": [
       "     user_id gender  age  occupation zip_code\n",
       "0          0      F    1          10    48067\n",
       "1          1      M   56          16    70072\n",
       "2          2      M   25          15    55117\n",
       "3          3      M   45           7    02460\n",
       "4          4      M   25          20    55455\n",
       "...      ...    ...  ...         ...      ...\n",
       "6035    6035      F   25          15    32603\n",
       "6036    6036      F   45           1    76006\n",
       "6037    6037      F   56           1    14706\n",
       "6038    6038      F   45           0    01060\n",
       "6039    6039      M   25           6    11106\n",
       "\n",
       "[6040 rows x 5 columns]"
      ]
     },
     "execution_count": 7,
     "metadata": {},
     "output_type": "execute_result"
    }
   ],
   "source": [
    "data_loader.df_users"
   ]
  }
 ],
 "metadata": {
  "kernelspec": {
   "display_name": "Python 3",
   "language": "python",
   "name": "python3"
  },
  "language_info": {
   "codemirror_mode": {
    "name": "ipython",
    "version": 3
   },
   "file_extension": ".py",
   "mimetype": "text/x-python",
   "name": "python",
   "nbconvert_exporter": "python",
   "pygments_lexer": "ipython3",
   "version": "3.10.4"
  },
  "orig_nbformat": 4
 },
 "nbformat": 4,
 "nbformat_minor": 2
}
